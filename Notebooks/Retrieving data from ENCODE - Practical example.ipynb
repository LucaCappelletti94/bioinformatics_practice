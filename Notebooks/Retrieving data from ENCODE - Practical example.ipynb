{
 "cells": [
  {
   "cell_type": "markdown",
   "metadata": {},
   "source": [
    "# Retrieving data from ENCODE\n",
    "In this short lesson we will learn step by step how to automatically retrieve data from [ENCODE](https://www.encodeproject.org/).\n",
    "\n",
    "The retrieved data are destined to be used in an experiment on the prediction of CIS-Regulatory regions.\n",
    "\n",
    "If you haven't installed the library yet, you can do so by running:\n",
    "\n",
    "```bash\n",
    "pip install encodeproject\n",
    "```"
   ]
  },
  {
   "cell_type": "markdown",
   "metadata": {},
   "source": [
    "First of all let's import some useful packages."
   ]
  },
  {
   "cell_type": "code",
   "execution_count": 1,
   "metadata": {},
   "outputs": [],
   "source": [
    "import pandas as pd\n",
    "import matplotlib.pyplot as plt"
   ]
  },
  {
   "cell_type": "markdown",
   "metadata": {},
   "source": [
    "### Retrieving data from ENCODE\n",
    "ENCODE is a portal offering an immense amount of experimental results. We will be retrieving [epigenomic data](https://en.wikipedia.org/wiki/Epigenomics) created with [ChIP-sequencing](https://en.wikipedia.org/wiki/ChIP-sequencing) (which is a method for measuring the protein-genes interactions) experiments from ENCODE, tabular data containing informations about the expression of genes.\n",
    "\n",
    "These data are relative to genomic regions characterized as regulatory regions by the labels we will retrieve from FANTOM afterwards."
   ]
  },
  {
   "cell_type": "markdown",
   "metadata": {},
   "source": [
    "#### Making a manual query\n",
    "Let's start by going on [ENCODE](https://www.encodeproject.org/) and see how we can do a manual query.\n",
    "\n",
    "Afterwards, we will learn how to automate said query."
   ]
  },
  {
   "cell_type": "markdown",
   "metadata": {},
   "source": [
    "## Retrieving the experiments\n",
    "Let's start by running the experiment query, with it's default parameters:"
   ]
  },
  {
   "cell_type": "markdown",
   "metadata": {},
   "source": [
    "#### Making an automatic query\n",
    "Automating the data retrieval process is a foundamental aspect for making an experiment fully and easily replicable. Here we will use the package [encodeproject](https://github.com/LucaCappelletti94/encodeproject) to query encode, retrieve the access codes for the experiments we are interested in and download the raw data."
   ]
  },
  {
   "cell_type": "code",
   "execution_count": 2,
   "metadata": {},
   "outputs": [],
   "source": [
    "from encodeproject import experiment\n",
    "\n",
    "experiments = experiment()"
   ]
  },
  {
   "cell_type": "markdown",
   "metadata": {},
   "source": [
    "That looks easy! Let's now take a look at the available parameters, in depth:"
   ]
  },
  {
   "cell_type": "code",
   "execution_count": 3,
   "metadata": {},
   "outputs": [],
   "source": [
    "experiments = experiment(\n",
    "    # The cell line we are interested in.\n",
    "    # For example values could be K562 or GM12878.\n",
    "    # We use None to specify that we are not\n",
    "    # interested in any particular cell line.\n",
    "    cell_line = None,\n",
    "    # The reference genomic assembly we want.\n",
    "    # For example values could be hg19 or GRCh38\n",
    "    # We use None to specify that we are not\n",
    "    # interested in any particular genomic assembly.\n",
    "    assembly = None,\n",
    "    # The target (the genes coding for proteins in this context) we want.\n",
    "    # For example values could be CTCF or H3K27ac\n",
    "    # We use None to specify that we are not\n",
    "    # interested in any particular target.\n",
    "    target = None,\n",
    "    # The status of the data we want.\n",
    "    # We only want released data, meaning data that are\n",
    "    # neither old (archived) or with errors (revoked).\n",
    "    status = 'released',\n",
    "    # The organism we are considering.\n",
    "    # Since we only want Homo sapiens data,\n",
    "    # we specify that organism name.\n",
    "    organism = 'Homo sapiens',\n",
    "    # The format of the files we are interested in\n",
    "    file_type = 'bigWig',\n",
    "    # We ask to consider only experiments with replicas\n",
    "    replicated = True,\n",
    "    # We only want with the signals\n",
    "    # expressed as \"fold change over control\"\n",
    "    searchTerm = \"fold change over control\",\n",
    "    # We do not need to specify any other specific\n",
    "    # additional parameters\n",
    "    parameters = None,\n",
    "    # We want to download all the\n",
    "    # available experiments\n",
    "    limit = 'all',\n",
    "    # We want to drop all the experiments\n",
    "    # which have been characterized by significand issues\n",
    "    drop_errors = (\n",
    "        'extremely low read depth',\n",
    "        'missing control alignments',\n",
    "        'control extremely low read depth',\n",
    "        'extremely low spot score',\n",
    "        'extremely low coverage',\n",
    "        'extremely low read length',\n",
    "        'inconsistent control',\n",
    "        'inconsistent read count'\n",
    "    )\n",
    ")"
   ]
  },
  {
   "cell_type": "markdown",
   "metadata": {},
   "source": [
    "The experiments returned are a lot! Let's start by getting their accession codes!"
   ]
  },
  {
   "cell_type": "code",
   "execution_count": 4,
   "metadata": {},
   "outputs": [
    {
     "name": "stdout",
     "output_type": "stream",
     "text": [
      "An accession code look like these: ['ENCSR000EFH', 'ENCSR594SMP', 'ENCSR000BPX']\n",
      "We have 2948 accession codes to parse.\n"
     ]
    }
   ],
   "source": [
    "from encodeproject import accessions\n",
    "\n",
    "accession_codes = accessions(experiments)\n",
    "\n",
    "print(f\"An accession code look like these: {accession_codes[:3]}\")\n",
    "print(f\"We have {len(accession_codes)} accession codes to parse.\")"
   ]
  },
  {
   "cell_type": "markdown",
   "metadata": {},
   "source": [
    "## Querying for the biosamples\n",
    "Now that we have the accession codes of the experiments that interest us, we can move forward and query them. Since we have a lot of queries to run, we will use the biosamples method, that runs queries in parallel.\n",
    "\n",
    "As an additional bonus, the queries are cached after they have responded correctly once, so you may see this process run at the speed of light. Without the cached responses, it takes quite a bit longer.\n",
    "\n",
    "As for the experiments, also the biosamples have some optional filters we can use.\n",
    "\n",
    "Sa before, let's start from the most basic execution."
   ]
  },
  {
   "cell_type": "code",
   "execution_count": 5,
   "metadata": {},
   "outputs": [
    {
     "data": {
      "application/vnd.jupyter.widget-view+json": {
       "model_id": "",
       "version_major": 2,
       "version_minor": 0
      },
      "text/plain": [
       "HBox(children=(FloatProgress(value=0.0, description='Retrieving biosamples', layout=Layout(flex='2'), max=2948…"
      ]
     },
     "metadata": {},
     "output_type": "display_data"
    }
   ],
   "source": [
    "from encodeproject import biosamples\n",
    "\n",
    "samples = biosamples(accession_codes)"
   ]
  },
  {
   "cell_type": "markdown",
   "metadata": {},
   "source": [
    "Now let's explore the available filters:"
   ]
  },
  {
   "cell_type": "code",
   "execution_count": 6,
   "metadata": {},
   "outputs": [
    {
     "data": {
      "application/vnd.jupyter.widget-view+json": {
       "model_id": "",
       "version_major": 2,
       "version_minor": 0
      },
      "text/plain": [
       "HBox(children=(FloatProgress(value=0.0, description='Retrieving biosamples', layout=Layout(flex='2'), max=2948…"
      ]
     },
     "metadata": {},
     "output_type": "display_data"
    }
   ],
   "source": [
    "hg19 = biosamples(\n",
    "    # The list of accessions to retrieve\n",
    "    accessions=accession_codes,\n",
    "    # Wethever to convert the results in dataframe.\n",
    "    # The following filters only apply if dataframes are used\n",
    "    to_dataframe = True,\n",
    "    # The status of the data we want.\n",
    "    # We only want released data, meaning data that are\n",
    "    # neither old (archived) or with errors (revoked).\n",
    "    status = \"released\",\n",
    "    # The organism we want.\n",
    "    organism = \"human\",\n",
    "    # The genomic assembly we want to use\n",
    "    assembly = \"hg19\",\n",
    "    # The output type we want.\n",
    "    output_type = \"fold change over control\",\n",
    "    # And finally the bare minimum amount\n",
    "    # of biological replicates\n",
    "    min_biological_replicates = 2\n",
    ")"
   ]
  },
  {
   "cell_type": "markdown",
   "metadata": {},
   "source": [
    "Let's look at the first $5$ rows:"
   ]
  },
  {
   "cell_type": "code",
   "execution_count": 7,
   "metadata": {
    "scrolled": false
   },
   "outputs": [
    {
     "data": {
      "text/html": [
       "<div>\n",
       "<style scoped>\n",
       "    .dataframe tbody tr th:only-of-type {\n",
       "        vertical-align: middle;\n",
       "    }\n",
       "\n",
       "    .dataframe tbody tr th {\n",
       "        vertical-align: top;\n",
       "    }\n",
       "\n",
       "    .dataframe thead th {\n",
       "        text-align: right;\n",
       "    }\n",
       "</style>\n",
       "<table border=\"1\" class=\"dataframe\">\n",
       "  <thead>\n",
       "    <tr style=\"text-align: right;\">\n",
       "      <th></th>\n",
       "      <th>status</th>\n",
       "      <th>accession</th>\n",
       "      <th>file_size</th>\n",
       "      <th>file_format</th>\n",
       "      <th>assembly</th>\n",
       "      <th>biological_replicates</th>\n",
       "      <th>output_type</th>\n",
       "      <th>url</th>\n",
       "      <th>organism</th>\n",
       "      <th>cell_line</th>\n",
       "      <th>target</th>\n",
       "    </tr>\n",
       "  </thead>\n",
       "  <tbody>\n",
       "    <tr>\n",
       "      <th>0</th>\n",
       "      <td>released</td>\n",
       "      <td>ENCFF430NXF</td>\n",
       "      <td>848843413</td>\n",
       "      <td>bigWig</td>\n",
       "      <td>hg19</td>\n",
       "      <td>[1, 2]</td>\n",
       "      <td>fold change over control</td>\n",
       "      <td>https://encode-public.s3.amazonaws.com/2016/08...</td>\n",
       "      <td>human</td>\n",
       "      <td>IMR-90</td>\n",
       "      <td>MAFK</td>\n",
       "    </tr>\n",
       "    <tr>\n",
       "      <th>1</th>\n",
       "      <td>released</td>\n",
       "      <td>ENCFF905ZIF</td>\n",
       "      <td>1948498826</td>\n",
       "      <td>bigWig</td>\n",
       "      <td>hg19</td>\n",
       "      <td>[1, 2]</td>\n",
       "      <td>fold change over control</td>\n",
       "      <td>https://encode-public.s3.amazonaws.com/2017/02...</td>\n",
       "      <td>human</td>\n",
       "      <td>K562</td>\n",
       "      <td>PHF20</td>\n",
       "    </tr>\n",
       "    <tr>\n",
       "      <th>2</th>\n",
       "      <td>released</td>\n",
       "      <td>ENCFF511TWR</td>\n",
       "      <td>638644811</td>\n",
       "      <td>bigWig</td>\n",
       "      <td>hg19</td>\n",
       "      <td>[1, 2]</td>\n",
       "      <td>fold change over control</td>\n",
       "      <td>https://encode-public.s3.amazonaws.com/2017/12...</td>\n",
       "      <td>human</td>\n",
       "      <td>A549</td>\n",
       "      <td>FOXA1</td>\n",
       "    </tr>\n",
       "    <tr>\n",
       "      <th>3</th>\n",
       "      <td>released</td>\n",
       "      <td>ENCFF282RLY</td>\n",
       "      <td>2311021838</td>\n",
       "      <td>bigWig</td>\n",
       "      <td>hg19</td>\n",
       "      <td>[1, 2]</td>\n",
       "      <td>fold change over control</td>\n",
       "      <td>https://encode-public.s3.amazonaws.com/2017/03...</td>\n",
       "      <td>human</td>\n",
       "      <td>22Rv1</td>\n",
       "      <td>H3K27ac</td>\n",
       "    </tr>\n",
       "    <tr>\n",
       "      <th>4</th>\n",
       "      <td>released</td>\n",
       "      <td>ENCFF214DHW</td>\n",
       "      <td>910286428</td>\n",
       "      <td>bigWig</td>\n",
       "      <td>hg19</td>\n",
       "      <td>[1, 2]</td>\n",
       "      <td>fold change over control</td>\n",
       "      <td>https://encode-public.s3.amazonaws.com/2017/12...</td>\n",
       "      <td>human</td>\n",
       "      <td>GM12878</td>\n",
       "      <td>ATF2</td>\n",
       "    </tr>\n",
       "  </tbody>\n",
       "</table>\n",
       "</div>"
      ],
      "text/plain": [
       "     status    accession   file_size file_format assembly  \\\n",
       "0  released  ENCFF430NXF   848843413      bigWig     hg19   \n",
       "1  released  ENCFF905ZIF  1948498826      bigWig     hg19   \n",
       "2  released  ENCFF511TWR   638644811      bigWig     hg19   \n",
       "3  released  ENCFF282RLY  2311021838      bigWig     hg19   \n",
       "4  released  ENCFF214DHW   910286428      bigWig     hg19   \n",
       "\n",
       "  biological_replicates               output_type  \\\n",
       "0                [1, 2]  fold change over control   \n",
       "1                [1, 2]  fold change over control   \n",
       "2                [1, 2]  fold change over control   \n",
       "3                [1, 2]  fold change over control   \n",
       "4                [1, 2]  fold change over control   \n",
       "\n",
       "                                                 url organism cell_line  \\\n",
       "0  https://encode-public.s3.amazonaws.com/2016/08...    human    IMR-90   \n",
       "1  https://encode-public.s3.amazonaws.com/2017/02...    human      K562   \n",
       "2  https://encode-public.s3.amazonaws.com/2017/12...    human      A549   \n",
       "3  https://encode-public.s3.amazonaws.com/2017/03...    human     22Rv1   \n",
       "4  https://encode-public.s3.amazonaws.com/2017/12...    human   GM12878   \n",
       "\n",
       "    target  \n",
       "0     MAFK  \n",
       "1    PHF20  \n",
       "2    FOXA1  \n",
       "3  H3K27ac  \n",
       "4     ATF2  "
      ]
     },
     "execution_count": 7,
     "metadata": {},
     "output_type": "execute_result"
    }
   ],
   "source": [
    "hg19[:5]"
   ]
  },
  {
   "cell_type": "markdown",
   "metadata": {},
   "source": [
    "Let's see how many unique features we have for each cell line."
   ]
  },
  {
   "cell_type": "code",
   "execution_count": 8,
   "metadata": {},
   "outputs": [
    {
     "data": {
      "image/png": "[encoded data removed]",
      "text/plain": [
       "<Figure size 432x288 with 1 Axes>"
      ]
     },
     "metadata": {
      "needs_background": "light"
     },
     "output_type": "display_data"
    }
   ],
   "source": [
    "def compute_unique_targets(df:pd.DataFrame):\n",
    "    return df.groupby([\"cell_line\"]).agg({\"target\": \"nunique\"})\n",
    "\n",
    "def targets_histogram(df:pd.DataFrame):\n",
    "    unique_features = compute_unique_targets(df)\n",
    "    unique_features.hist(bins=50)\n",
    "    plt.show()\n",
    "\n",
    "targets_histogram(hg19)"
   ]
  },
  {
   "cell_type": "markdown",
   "metadata": {},
   "source": [
    "Most cell lines have less than 50 targets, therefore we will need to apply a threshold."
   ]
  },
  {
   "cell_type": "code",
   "execution_count": 9,
   "metadata": {},
   "outputs": [],
   "source": [
    "threshold_count = 50\n",
    "unique_features = compute_unique_targets(hg19)\n",
    "cell_lines_with_features = unique_features.index[unique_features.target > threshold_count].tolist()\n",
    "hg19 = hg19[hg19.cell_line.isin(cell_lines_with_features)]"
   ]
  },
  {
   "cell_type": "markdown",
   "metadata": {},
   "source": [
    "This procedure will have vastly reduced the number of available cell lines. Let's see for each cell line how many unique targets we have left."
   ]
  },
  {
   "cell_type": "code",
   "execution_count": 10,
   "metadata": {},
   "outputs": [
    {
     "data": {
      "text/html": [
       "<div>\n",
       "<style scoped>\n",
       "    .dataframe tbody tr th:only-of-type {\n",
       "        vertical-align: middle;\n",
       "    }\n",
       "\n",
       "    .dataframe tbody tr th {\n",
       "        vertical-align: top;\n",
       "    }\n",
       "\n",
       "    .dataframe thead th {\n",
       "        text-align: right;\n",
       "    }\n",
       "</style>\n",
       "<table border=\"1\" class=\"dataframe\">\n",
       "  <thead>\n",
       "    <tr style=\"text-align: right;\">\n",
       "      <th></th>\n",
       "      <th>target</th>\n",
       "    </tr>\n",
       "    <tr>\n",
       "      <th>cell_line</th>\n",
       "      <th></th>\n",
       "    </tr>\n",
       "  </thead>\n",
       "  <tbody>\n",
       "    <tr>\n",
       "      <th>A549</th>\n",
       "      <td>57</td>\n",
       "    </tr>\n",
       "    <tr>\n",
       "      <th>GM12878</th>\n",
       "      <td>144</td>\n",
       "    </tr>\n",
       "    <tr>\n",
       "      <th>H1</th>\n",
       "      <td>71</td>\n",
       "    </tr>\n",
       "    <tr>\n",
       "      <th>HEK293</th>\n",
       "      <td>192</td>\n",
       "    </tr>\n",
       "    <tr>\n",
       "      <th>HepG2</th>\n",
       "      <td>228</td>\n",
       "    </tr>\n",
       "    <tr>\n",
       "      <th>K562</th>\n",
       "      <td>334</td>\n",
       "    </tr>\n",
       "    <tr>\n",
       "      <th>MCF-7</th>\n",
       "      <td>104</td>\n",
       "    </tr>\n",
       "  </tbody>\n",
       "</table>\n",
       "</div>"
      ],
      "text/plain": [
       "           target\n",
       "cell_line        \n",
       "A549           57\n",
       "GM12878       144\n",
       "H1             71\n",
       "HEK293        192\n",
       "HepG2         228\n",
       "K562          334\n",
       "MCF-7         104"
      ]
     },
     "execution_count": 10,
     "metadata": {},
     "output_type": "execute_result"
    }
   ],
   "source": [
    "compute_unique_targets(hg19)"
   ]
  },
  {
   "cell_type": "markdown",
   "metadata": {},
   "source": [
    "## Downloading the samples\n",
    "Finally it's time to download the samples! Fortunately we have an utility for this:"
   ]
  },
  {
   "cell_type": "code",
   "execution_count": 11,
   "metadata": {},
   "outputs": [
    {
     "data": {
      "application/vnd.jupyter.widget-view+json": {
       "model_id": "",
       "version_major": 2,
       "version_minor": 0
      },
      "text/plain": [
       "HBox(children=(FloatProgress(value=0.0, description='Downloading to ENCFF905ZIF.bigWig', layout=Layout(flex='2…"
      ]
     },
     "metadata": {},
     "output_type": "display_data"
    }
   ],
   "source": [
    "from encodeproject import download\n",
    "\n",
    "urls = hg19.url.tolist()\n",
    "\n",
    "download(urls[0])"
   ]
  },
  {
   "cell_type": "markdown",
   "metadata": {},
   "source": [
    "#### On parsing the obtain BigWig files\n",
    "The [BigWig file format](https://genomebrowser.wustl.edu/goldenPath/help/bigWig.html) is for display of dense, continuous data that will be displayed in the Genome Browser as a graph. BigWig files are created initially from wiggle (wig) type files, using the program wigToBigWig. The resulting bigWig files are in an indexed binary format. The main advantage of the bigWig files is that only the portions of the files needed to display a particular region are transferred to UCSC, so for large data sets bigWig is considerably faster than regular wiggle files.\n",
    "\n",
    "To parse BigWig files we can use [pybwtool](https://github.com/LucaCappelletti94/pybwtool). \n",
    "\n",
    "Before starting to parse the file, which we can think of as a database of genes-protein (single protein, multiple genes) interactions, though we will need the queries to make in the first place! This file is called a [BED file](https://genome.ucsc.edu/FAQ/FAQformat.html#format1).\n",
    "\n",
    "Since we are interested in studying the cis-regulatory regions, we will retrieve a BED file with coordinates to some of the known regions from [FANTOM](https://fantom.gsc.riken.jp/5/)."
   ]
  },
  {
   "cell_type": "markdown",
   "metadata": {},
   "source": [
    "#### What is a BED file?\n",
    "The [BED file format](https://genome.ucsc.edu/FAQ/FAQformat.html#format1) provides a flexible way to define the data lines that are displayed in an annotation track. BED lines have three required fields and nine additional optional fields. The number of fields per line must be consistent throughout any single set of data in an annotation track."
   ]
  }
 ],
 "metadata": {
  "kernelspec": {
   "display_name": "Python 3",
   "language": "python",
   "name": "python3"
  },
  "language_info": {
   "codemirror_mode": {
    "name": "ipython",
    "version": 3
   },
   "file_extension": ".py",
   "mimetype": "text/x-python",
   "name": "python",
   "nbconvert_exporter": "python",
   "pygments_lexer": "ipython3",
   "version": "3.6.9"
  }
 },
 "nbformat": 4,
 "nbformat_minor": 2
}
