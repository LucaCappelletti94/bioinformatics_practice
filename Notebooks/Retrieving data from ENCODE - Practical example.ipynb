{
 "cells": [
  {
   "cell_type": "markdown",
   "metadata": {},
   "source": [
    "# Retrieving data from ENCODE\n",
    "In this short lesson we will learn step by step how to automatically retrieve data from [ENCODE](https://www.encodeproject.org/).\n",
    "\n",
    "The retrieved data are destined to be used in an experiment on the prediction of CIS-Regulatory regions.\n",
    "\n",
    "If you haven't installed the library yet, you can do so by running:\n",
    "\n",
    "```bash\n",
    "pip install encodeproject\n",
    "```"
   ]
  },
  {
   "cell_type": "markdown",
   "metadata": {},
   "source": [
    "First of all let's import some useful packages."
   ]
  },
  {
   "cell_type": "code",
   "execution_count": 1,
   "metadata": {},
   "outputs": [],
   "source": [
    "import pandas as pd\n",
    "import matplotlib.pyplot as plt"
   ]
  },
  {
   "cell_type": "markdown",
   "metadata": {},
   "source": [
    "## Retrieving the experiments\n",
    "Let's start by running the experiment query, with it's default parameters:"
   ]
  },
  {
   "cell_type": "code",
   "execution_count": 2,
   "metadata": {},
   "outputs": [],
   "source": [
    "from encodeproject import experiment\n",
    "\n",
    "experiments = experiment()"
   ]
  },
  {
   "cell_type": "markdown",
   "metadata": {},
   "source": [
    "That looks easy! Let's now take a look at the available parameters, in depth:"
   ]
  },
  {
   "cell_type": "code",
   "execution_count": 3,
   "metadata": {},
   "outputs": [],
   "source": [
    "experiments = experiment(\n",
    "    # The cell line we are interested in.\n",
    "    # For example values could be K562 or GM12878.\n",
    "    # We use None to specify that we are not\n",
    "    # interested in any particular cell line.\n",
    "    cell_line = None,\n",
    "    # The reference genomic assembly we want.\n",
    "    # For example values could be hg19 or GRCh38\n",
    "    # We use None to specify that we are not\n",
    "    # interested in any particular genomic assembly.\n",
    "    assembly = None,\n",
    "    # The target (the genes coding for proteins in this context) we want.\n",
    "    # For example values could be CTCF or H3K27ac\n",
    "    # We use None to specify that we are not\n",
    "    # interested in any particular target.\n",
    "    target = None,\n",
    "    # The status of the data we want.\n",
    "    # We only want released data, meaning data that are\n",
    "    # neither old (archived) or with errors (revoked).\n",
    "    status = 'released',\n",
    "    # The organism we are considering.\n",
    "    # Since we only want Homo sapiens data,\n",
    "    # we specify that organism name.\n",
    "    organism = 'Homo sapiens',\n",
    "    # The format of the files we are interested in\n",
    "    file_type = 'bigWig',\n",
    "    # We ask to consider only experiments with replicas\n",
    "    replicated = True,\n",
    "    # We only want with the signals\n",
    "    # expressed as \"fold change over control\"\n",
    "    searchTerm = \"fold change over control\",\n",
    "    # We do not need to specify any other specific\n",
    "    # additional parameters\n",
    "    parameters = None,\n",
    "    # We want to download all the\n",
    "    # available experiments\n",
    "    limit = 'all',\n",
    "    # We want to drop all the experiments\n",
    "    # which have been characterized by significand issues\n",
    "    drop_errors = (\n",
    "        'extremely low read depth',\n",
    "        'missing control alignments',\n",
    "        'control extremely low read depth',\n",
    "        'extremely low spot score',\n",
    "        'extremely low coverage',\n",
    "        'extremely low read length',\n",
    "        'inconsistent control',\n",
    "        'inconsistent read count'\n",
    "    )\n",
    ")"
   ]
  },
  {
   "cell_type": "markdown",
   "metadata": {},
   "source": [
    "The experiments returned are a lot! Let's start by getting their accession codes!"
   ]
  },
  {
   "cell_type": "code",
   "execution_count": 4,
   "metadata": {},
   "outputs": [
    {
     "name": "stdout",
     "output_type": "stream",
     "text": [
      "An accession code look like these: ['ENCSR445ACU', 'ENCSR206STN', 'ENCSR000ATD']\n",
      "We have 2597 accession codes to parse.\n"
     ]
    }
   ],
   "source": [
    "from encodeproject import accessions\n",
    "\n",
    "accession_codes = accessions(experiments)\n",
    "\n",
    "print(f\"An accession code look like these: {accession_codes[:3]}\")\n",
    "print(f\"We have {len(accession_codes)} accession codes to parse.\")"
   ]
  },
  {
   "cell_type": "markdown",
   "metadata": {},
   "source": [
    "## Querying for the biosamples\n",
    "Now that we have the accession codes of the experiments that interest us, we can move forward and query them. Since we have a lot of queries to run, we will use the biosamples method, that runs queries in parallel.\n",
    "\n",
    "As an additional bonus, the queries are cached after they have responded correctly once, so you may see this process run at the speed of light. Without the cached responses, it takes quite a bit longer.\n",
    "\n",
    "As for the experiments, also the biosamples have some optional filters we can use.\n",
    "\n",
    "Sa before, let's start from the most basic execution."
   ]
  },
  {
   "cell_type": "code",
   "execution_count": 5,
   "metadata": {},
   "outputs": [
    {
     "data": {
      "application/vnd.jupyter.widget-view+json": {
       "model_id": "",
       "version_major": 2,
       "version_minor": 0
      },
      "text/plain": [
       "HBox(children=(FloatProgress(value=0.0, description='Retrieving biosamples', layout=Layout(flex='2'), max=2597…"
      ]
     },
     "metadata": {},
     "output_type": "display_data"
    }
   ],
   "source": [
    "from encodeproject import biosamples\n",
    "\n",
    "samples = biosamples(accession_codes)"
   ]
  },
  {
   "cell_type": "markdown",
   "metadata": {},
   "source": [
    "Now let's explore the available filters:"
   ]
  },
  {
   "cell_type": "code",
   "execution_count": 6,
   "metadata": {},
   "outputs": [
    {
     "data": {
      "application/vnd.jupyter.widget-view+json": {
       "model_id": "",
       "version_major": 2,
       "version_minor": 0
      },
      "text/plain": [
       "HBox(children=(FloatProgress(value=0.0, description='Retrieving biosamples', layout=Layout(flex='2'), max=2597…"
      ]
     },
     "metadata": {},
     "output_type": "display_data"
    }
   ],
   "source": [
    "hg19 = biosamples(\n",
    "    # The list of accessions to retrieve\n",
    "    accessions=accession_codes,\n",
    "    # Wethever to convert the results in dataframe.\n",
    "    # The following filters only apply if dataframes are used\n",
    "    to_dataframe = True,\n",
    "    # The status of the data we want.\n",
    "    # We only want released data, meaning data that are\n",
    "    # neither old (archived) or with errors (revoked).\n",
    "    status = \"released\",\n",
    "    # The organism we want.\n",
    "    organism = \"human\",\n",
    "    # The genomic assembly we want to use\n",
    "    assembly = \"hg19\",\n",
    "    # The output type we want.\n",
    "    output_type = \"fold change over control\",\n",
    "    # And finally the bare minimum amount\n",
    "    # of biological replicates\n",
    "    min_biological_replicates = 2\n",
    ")"
   ]
  },
  {
   "cell_type": "markdown",
   "metadata": {},
   "source": [
    "Let's look at the first $5$ rows:"
   ]
  },
  {
   "cell_type": "code",
   "execution_count": 7,
   "metadata": {
    "scrolled": false
   },
   "outputs": [
    {
     "data": {
      "text/html": [
       "<div>\n",
       "<style scoped>\n",
       "    .dataframe tbody tr th:only-of-type {\n",
       "        vertical-align: middle;\n",
       "    }\n",
       "\n",
       "    .dataframe tbody tr th {\n",
       "        vertical-align: top;\n",
       "    }\n",
       "\n",
       "    .dataframe thead th {\n",
       "        text-align: right;\n",
       "    }\n",
       "</style>\n",
       "<table border=\"1\" class=\"dataframe\">\n",
       "  <thead>\n",
       "    <tr style=\"text-align: right;\">\n",
       "      <th></th>\n",
       "      <th>status</th>\n",
       "      <th>accession</th>\n",
       "      <th>file_size</th>\n",
       "      <th>file_format</th>\n",
       "      <th>assembly</th>\n",
       "      <th>biological_replicates</th>\n",
       "      <th>output_type</th>\n",
       "      <th>url</th>\n",
       "      <th>organism</th>\n",
       "      <th>cell_line</th>\n",
       "      <th>target</th>\n",
       "    </tr>\n",
       "  </thead>\n",
       "  <tbody>\n",
       "    <tr>\n",
       "      <th>0</th>\n",
       "      <td>released</td>\n",
       "      <td>ENCFF462LCU</td>\n",
       "      <td>879093045</td>\n",
       "      <td>bigWig</td>\n",
       "      <td>hg19</td>\n",
       "      <td>[1, 2]</td>\n",
       "      <td>fold change over control</td>\n",
       "      <td>https://encode-public.s3.amazonaws.com/2018/02...</td>\n",
       "      <td>human</td>\n",
       "      <td>HepG2</td>\n",
       "      <td>SOX13</td>\n",
       "    </tr>\n",
       "    <tr>\n",
       "      <th>1</th>\n",
       "      <td>released</td>\n",
       "      <td>ENCFF074GLQ</td>\n",
       "      <td>1689195540</td>\n",
       "      <td>bigWig</td>\n",
       "      <td>hg19</td>\n",
       "      <td>[1, 2]</td>\n",
       "      <td>fold change over control</td>\n",
       "      <td>https://encode-public.s3.amazonaws.com/2017/02...</td>\n",
       "      <td>human</td>\n",
       "      <td>gastrocnemius medialis</td>\n",
       "      <td>H3K4me3</td>\n",
       "    </tr>\n",
       "    <tr>\n",
       "      <th>2</th>\n",
       "      <td>released</td>\n",
       "      <td>ENCFF881LOL</td>\n",
       "      <td>1597330377</td>\n",
       "      <td>bigWig</td>\n",
       "      <td>hg19</td>\n",
       "      <td>[1, 2]</td>\n",
       "      <td>fold change over control</td>\n",
       "      <td>https://encode-public.s3.amazonaws.com/2017/02...</td>\n",
       "      <td>human</td>\n",
       "      <td>HepG2</td>\n",
       "      <td>H3K9me3</td>\n",
       "    </tr>\n",
       "    <tr>\n",
       "      <th>3</th>\n",
       "      <td>released</td>\n",
       "      <td>ENCFF143ZTY</td>\n",
       "      <td>1004695676</td>\n",
       "      <td>bigWig</td>\n",
       "      <td>hg19</td>\n",
       "      <td>[1, 2]</td>\n",
       "      <td>fold change over control</td>\n",
       "      <td>https://encode-public.s3.amazonaws.com/2018/01...</td>\n",
       "      <td>human</td>\n",
       "      <td>effector memory CD4-positive, alpha-beta T cell</td>\n",
       "      <td>H3K36me3</td>\n",
       "    </tr>\n",
       "    <tr>\n",
       "      <th>4</th>\n",
       "      <td>released</td>\n",
       "      <td>ENCFF327GKE</td>\n",
       "      <td>468136410</td>\n",
       "      <td>bigWig</td>\n",
       "      <td>hg19</td>\n",
       "      <td>[1, 2]</td>\n",
       "      <td>fold change over control</td>\n",
       "      <td>https://encode-public.s3.amazonaws.com/2017/10...</td>\n",
       "      <td>human</td>\n",
       "      <td>ES-I3</td>\n",
       "      <td>H3K9me3</td>\n",
       "    </tr>\n",
       "  </tbody>\n",
       "</table>\n",
       "</div>"
      ],
      "text/plain": [
       "     status    accession   file_size file_format assembly  \\\n",
       "0  released  ENCFF462LCU   879093045      bigWig     hg19   \n",
       "1  released  ENCFF074GLQ  1689195540      bigWig     hg19   \n",
       "2  released  ENCFF881LOL  1597330377      bigWig     hg19   \n",
       "3  released  ENCFF143ZTY  1004695676      bigWig     hg19   \n",
       "4  released  ENCFF327GKE   468136410      bigWig     hg19   \n",
       "\n",
       "  biological_replicates               output_type  \\\n",
       "0                [1, 2]  fold change over control   \n",
       "1                [1, 2]  fold change over control   \n",
       "2                [1, 2]  fold change over control   \n",
       "3                [1, 2]  fold change over control   \n",
       "4                [1, 2]  fold change over control   \n",
       "\n",
       "                                                 url organism  \\\n",
       "0  https://encode-public.s3.amazonaws.com/2018/02...    human   \n",
       "1  https://encode-public.s3.amazonaws.com/2017/02...    human   \n",
       "2  https://encode-public.s3.amazonaws.com/2017/02...    human   \n",
       "3  https://encode-public.s3.amazonaws.com/2018/01...    human   \n",
       "4  https://encode-public.s3.amazonaws.com/2017/10...    human   \n",
       "\n",
       "                                         cell_line    target  \n",
       "0                                            HepG2     SOX13  \n",
       "1                           gastrocnemius medialis   H3K4me3  \n",
       "2                                            HepG2   H3K9me3  \n",
       "3  effector memory CD4-positive, alpha-beta T cell  H3K36me3  \n",
       "4                                            ES-I3   H3K9me3  "
      ]
     },
     "execution_count": 7,
     "metadata": {},
     "output_type": "execute_result"
    }
   ],
   "source": [
    "hg19[:5]"
   ]
  },
  {
   "cell_type": "markdown",
   "metadata": {},
   "source": [
    "Let's see how many unique features we have for each cell line."
   ]
  },
  {
   "cell_type": "code",
   "execution_count": 8,
   "metadata": {},
   "outputs": [
    {
     "data": {
      "image/png": "[encoded data removed]",
      "text/plain": [
       "<Figure size 432x288 with 1 Axes>"
      ]
     },
     "metadata": {
      "needs_background": "light"
     },
     "output_type": "display_data"
    }
   ],
   "source": [
    "def compute_unique_targets(df:pd.DataFrame):\n",
    "    return df.groupby([\"cell_line\"]).agg({\"target\": \"nunique\"})\n",
    "\n",
    "def targets_histogram(df:pd.DataFrame):\n",
    "    unique_features = compute_unique_targets(df)\n",
    "    unique_features.hist(bins=50)\n",
    "    plt.show()\n",
    "\n",
    "targets_histogram(hg19)"
   ]
  },
  {
   "cell_type": "markdown",
   "metadata": {},
   "source": [
    "Most cell lines have less than 50 targets, therefore we will need to apply a threshold."
   ]
  },
  {
   "cell_type": "code",
   "execution_count": 9,
   "metadata": {},
   "outputs": [],
   "source": [
    "threshold_count = 50\n",
    "unique_features = compute_unique_targets(hg19)\n",
    "cell_lines_with_features = unique_features.index[unique_features.target > threshold_count].tolist()\n",
    "hg19 = hg19[hg19.cell_line.isin(cell_lines_with_features)]"
   ]
  },
  {
   "cell_type": "markdown",
   "metadata": {},
   "source": [
    "This procedure will have vastly reduced the number of available cell lines. Let's see for each cell line how many unique targets we have left."
   ]
  },
  {
   "cell_type": "code",
   "execution_count": 10,
   "metadata": {},
   "outputs": [
    {
     "data": {
      "text/html": [
       "<div>\n",
       "<style scoped>\n",
       "    .dataframe tbody tr th:only-of-type {\n",
       "        vertical-align: middle;\n",
       "    }\n",
       "\n",
       "    .dataframe tbody tr th {\n",
       "        vertical-align: top;\n",
       "    }\n",
       "\n",
       "    .dataframe thead th {\n",
       "        text-align: right;\n",
       "    }\n",
       "</style>\n",
       "<table border=\"1\" class=\"dataframe\">\n",
       "  <thead>\n",
       "    <tr style=\"text-align: right;\">\n",
       "      <th></th>\n",
       "      <th>target</th>\n",
       "    </tr>\n",
       "    <tr>\n",
       "      <th>cell_line</th>\n",
       "      <th></th>\n",
       "    </tr>\n",
       "  </thead>\n",
       "  <tbody>\n",
       "    <tr>\n",
       "      <th>A549</th>\n",
       "      <td>56</td>\n",
       "    </tr>\n",
       "    <tr>\n",
       "      <th>GM12878</th>\n",
       "      <td>144</td>\n",
       "    </tr>\n",
       "    <tr>\n",
       "      <th>H1</th>\n",
       "      <td>71</td>\n",
       "    </tr>\n",
       "    <tr>\n",
       "      <th>HEK293</th>\n",
       "      <td>210</td>\n",
       "    </tr>\n",
       "    <tr>\n",
       "      <th>HepG2</th>\n",
       "      <td>228</td>\n",
       "    </tr>\n",
       "    <tr>\n",
       "      <th>K562</th>\n",
       "      <td>334</td>\n",
       "    </tr>\n",
       "    <tr>\n",
       "      <th>MCF-7</th>\n",
       "      <td>103</td>\n",
       "    </tr>\n",
       "  </tbody>\n",
       "</table>\n",
       "</div>"
      ],
      "text/plain": [
       "           target\n",
       "cell_line        \n",
       "A549           56\n",
       "GM12878       144\n",
       "H1             71\n",
       "HEK293        210\n",
       "HepG2         228\n",
       "K562          334\n",
       "MCF-7         103"
      ]
     },
     "execution_count": 10,
     "metadata": {},
     "output_type": "execute_result"
    }
   ],
   "source": [
    "compute_unique_targets(hg19)"
   ]
  },
  {
   "cell_type": "markdown",
   "metadata": {},
   "source": [
    "## Downloading the samples\n",
    "Finally it's time to download the samples! Fortunately we have an utility for this:"
   ]
  },
  {
   "cell_type": "code",
   "execution_count": 12,
   "metadata": {},
   "outputs": [
    {
     "data": {
      "application/vnd.jupyter.widget-view+json": {
       "model_id": "",
       "version_major": 2,
       "version_minor": 0
      },
      "text/plain": [
       "HBox(children=(FloatProgress(value=0.0, description='Downloading to ENCFF462LCU.bigWig', layout=Layout(flex='2…"
      ]
     },
     "metadata": {},
     "output_type": "display_data"
    }
   ],
   "source": [
    "from encodeproject import download\n",
    "\n",
    "urls = hg19.url.tolist()\n",
    "\n",
    "download(urls[0])"
   ]
  }
 ],
 "metadata": {
  "kernelspec": {
   "display_name": "Python 3",
   "language": "python",
   "name": "python3"
  },
  "language_info": {
   "codemirror_mode": {
    "name": "ipython",
    "version": 3
   },
   "file_extension": ".py",
   "mimetype": "text/x-python",
   "name": "python",
   "nbconvert_exporter": "python",
   "pygments_lexer": "ipython3",
   "version": "3.7.4"
  }
 },
 "nbformat": 4,
 "nbformat_minor": 2
}
