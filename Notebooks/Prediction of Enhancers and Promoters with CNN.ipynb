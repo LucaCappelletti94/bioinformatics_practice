{
 "cells": [
  {
   "cell_type": "markdown",
   "metadata": {},
   "source": [
    "# Prediction of Enhancers and Promoters with CNN"
   ]
  },
  {
   "cell_type": "code",
   "execution_count": 1,
   "metadata": {},
   "outputs": [],
   "source": [
    "import pandas as pd\n",
    "import numpy as np\n",
    "from typing import Tuple, Dict\n",
    "import os\n",
    "import compress_json\n",
    "from tqdm.auto import tqdm, trange\n",
    "from plot_keras_history import plot_history\n",
    "from barplots import barplots\n",
    "import silence_tensorflow.auto"
   ]
  },
  {
   "cell_type": "code",
   "execution_count": 2,
   "metadata": {},
   "outputs": [],
   "source": [
    "models = []"
   ]
  },
  {
   "cell_type": "code",
   "execution_count": 3,
   "metadata": {},
   "outputs": [],
   "source": [
    "from tensorflow.keras.models import Sequential\n",
    "from tensorflow.keras.layers import Dense, Input, Flatten\n",
    "from tensorflow.keras.callbacks import EarlyStopping\n",
    "from tensorflow.keras.metrics import AUC\n",
    "\n",
    "def build_perceptron():\n",
    "    perceptron = Sequential([\n",
    "        Input(shape=(200, 4)),\n",
    "        Flatten(),\n",
    "        Dense(1, activation=\"sigmoid\")\n",
    "    ], \"Perceptron\")\n",
    "\n",
    "    perceptron.compile(\n",
    "        optimizer=\"nadam\",\n",
    "        loss=\"binary_crossentropy\",\n",
    "        metrics=[\n",
    "            \"accuracy\",\n",
    "            AUC(curve=\"ROC\", name=\"auroc\"),\n",
    "            AUC(curve=\"PR\", name=\"auprc\")\n",
    "        ]\n",
    "    )\n",
    "    return perceptron\n",
    "\n",
    "models.append(build_perceptron)"
   ]
  },
  {
   "cell_type": "code",
   "execution_count": 4,
   "metadata": {},
   "outputs": [],
   "source": [
    "def build_mlp():\n",
    "    mlp = Sequential([\n",
    "        Input(shape=(200, 4)),\n",
    "        Flatten(),\n",
    "        Dense(64, activation=\"relu\"),\n",
    "        Dense(32, activation=\"relu\"),\n",
    "        Dense(1, activation=\"sigmoid\")\n",
    "    ], \"MLP\")\n",
    "\n",
    "    mlp.compile(\n",
    "        optimizer=\"nadam\",\n",
    "        loss=\"binary_crossentropy\",\n",
    "        metrics=[\n",
    "            \"accuracy\",\n",
    "            AUC(curve=\"ROC\", name=\"auroc\"),\n",
    "            AUC(curve=\"PR\", name=\"auprc\")\n",
    "        ]\n",
    "    )\n",
    "    return mlp\n",
    "\n",
    "models.append(build_mlp)"
   ]
  },
  {
   "cell_type": "code",
   "execution_count": 5,
   "metadata": {},
   "outputs": [],
   "source": [
    "from tensorflow.keras.layers import BatchNormalization, Dropout, Activation\n",
    "\n",
    "def build_ffnn():\n",
    "    ffnn = Sequential([\n",
    "        Input(shape=(200, 4)),\n",
    "        Flatten(),\n",
    "        Dense(128, activation=\"relu\"),\n",
    "        Dense(64, activation=\"relu\"),\n",
    "        Dropout(0.3),\n",
    "        Dense(64, activation=\"relu\"),\n",
    "        Dropout(0.3),\n",
    "        Dense(32, activation=\"relu\"),\n",
    "        Dense(16, activation=\"relu\"),\n",
    "        Dense(1, activation=\"sigmoid\")\n",
    "    ], \"FFNN\")\n",
    "\n",
    "    ffnn.compile(\n",
    "        optimizer=\"nadam\",\n",
    "        loss=\"binary_crossentropy\",\n",
    "        metrics=[\n",
    "            \"accuracy\",\n",
    "            AUC(curve=\"ROC\", name=\"auroc\"),\n",
    "            AUC(curve=\"PR\", name=\"auprc\")\n",
    "        ]\n",
    "    )\n",
    "    return ffnn\n",
    "\n",
    "models.append(build_ffnn)"
   ]
  },
  {
   "cell_type": "code",
   "execution_count": 6,
   "metadata": {},
   "outputs": [],
   "source": [
    "from tensorflow.keras.models import Sequential, Model\n",
    "from tensorflow.keras.layers import Dense, BatchNormalization, Dropout, Flatten, Input, Reshape, Conv1D, MaxPool1D, Activation\n",
    "\n",
    "def build_deep_enhancers() -> Model:\n",
    "    \"\"\"Return Deep Enhancers fixed model.\n",
    "\n",
    "    References\n",
    "    -------------\n",
    "    https://www.nature.com/articles/nmeth.2987\n",
    "    \"\"\"\n",
    "    model = Sequential([\n",
    "        Input((200, 4)),\n",
    "        Conv1D(filters=128, kernel_size=8),\n",
    "        BatchNormalization(),\n",
    "        Activation(\"relu\"),\n",
    "        Conv1D(filters=128, kernel_size=8),\n",
    "        BatchNormalization(),\n",
    "        Activation(\"relu\"),\n",
    "        MaxPool1D(pool_size=2),\n",
    "        Conv1D(filters=64, kernel_size=3),\n",
    "        BatchNormalization(),\n",
    "        Activation(\"relu\"),\n",
    "        Conv1D(filters=64, kernel_size=3),\n",
    "        BatchNormalization(),\n",
    "        Activation(\"relu\"),\n",
    "        MaxPool1D(pool_size=2),\n",
    "        Flatten(),\n",
    "        Dense(units=256, activation=\"relu\"),\n",
    "        Dropout(rate=0.1),\n",
    "        Dense(units=128, activation=\"relu\"),\n",
    "        Dropout(rate=0.1),\n",
    "        Dense(units=1, activation=\"sigmoid\"),\n",
    "    ], name=\"DeepEnhancer\")\n",
    "\n",
    "    model.compile(\n",
    "        optimizer=\"nadam\",\n",
    "        loss=\"binary_crossentropy\",\n",
    "        metrics=[\n",
    "            AUC(curve='ROC', name=\"auroc\"),\n",
    "            AUC(curve='PR', name=\"auprc\"),\n",
    "            \"accuracy\"\n",
    "        ]\n",
    "    )\n",
    "\n",
    "    return model\n",
    "\n",
    "models.append(build_deep_enhancers)"
   ]
  },
  {
   "cell_type": "code",
   "execution_count": 7,
   "metadata": {},
   "outputs": [],
   "source": [
    "from epigenomic_dataset import load_epigenomes\n",
    "from sklearn.impute import KNNImputer\n",
    "from typing import List, Dict\n",
    "\n",
    "def filter_labels(\n",
    "    positive_classes:List[str],\n",
    "    negative_classes:List[str],\n",
    "    bed:pd.DataFrame,\n",
    "    epigenome:pd.DataFrame,\n",
    "    labels:pd.DataFrame,\n",
    "    dataset_name:str\n",
    "):\n",
    "    # Filtering data so to leave only data relative to requested classes\n",
    "    mask = labels.isin(positive_classes+negative_classes).values\n",
    "    labels = labels[mask]\n",
    "    bed = bed[mask]\n",
    "    epigenome = epigenome[mask]\n",
    "\n",
    "    # Converting the classes to zero and ones.\n",
    "    labels = labels.isin(positive_classes).values.astype(int)\n",
    "\n",
    "    return {\n",
    "        \"bed\":bed,\n",
    "        \"epigenome\":epigenome,\n",
    "        \"labels\":labels,\n",
    "        \"name\":dataset_name\n",
    "    }\n",
    "\n",
    "def get_new_data(\n",
    "    positive_classes:List[str],\n",
    "    negative_classes:List[str],\n",
    "    cell_line:str,\n",
    "    window_size:int=200,\n",
    "    dataset:str=\"fantom\",\n",
    "    directory:str=\"new_data\",\n",
    ")->Dict:\n",
    "    promoters_data, promoters_labels = load_epigenomes(\n",
    "        cell_line = cell_line,\n",
    "        dataset = dataset,\n",
    "        regions = \"promoters\",\n",
    "        window_size = window_size,\n",
    "        root = directory\n",
    "    )\n",
    "    enhancers_data, enhancers_labels = load_epigenomes(\n",
    "        cell_line = cell_line,\n",
    "        dataset = dataset,\n",
    "        regions = \"enhancers\",\n",
    "        window_size = window_size,\n",
    "        root = directory\n",
    "    )\n",
    "\n",
    "    epigenome = pd.concat([\n",
    "        promoters_data,\n",
    "        enhancers_data\n",
    "    ])\n",
    "\n",
    "    imputer = KNNImputer(n_neighbors=3)\n",
    "    epigenome = pd.DataFrame(\n",
    "        imputer.fit_transform(epigenome),\n",
    "        columns=epigenome.columns,\n",
    "        index=epigenome.index\n",
    "    )\n",
    "\n",
    "    bed = epigenome.reset_index()[[\"chrom\", \"chromStart\", \"chromEnd\", \"strand\"]]\n",
    "\n",
    "    promoters_labels[promoters_labels==0] = \"I-P\"\n",
    "    promoters_labels[promoters_labels==1] = \"A-P\"\n",
    "    enhancers_labels[enhancers_labels==0] = \"I-E\"\n",
    "    enhancers_labels[enhancers_labels==1] = \"A-E\"\n",
    "\n",
    "    labels = pd.concat([\n",
    "        promoters_labels,\n",
    "        enhancers_labels\n",
    "    ])\n",
    "    \n",
    "    return filter_labels(\n",
    "        positive_classes,\n",
    "        negative_classes,\n",
    "        bed,\n",
    "        epigenome,\n",
    "        labels,\n",
    "        dataset_name=\"NewData\"\n",
    "    )"
   ]
  },
  {
   "cell_type": "code",
   "execution_count": 8,
   "metadata": {},
   "outputs": [],
   "source": [
    "from sklearn.model_selection import train_test_split\n",
    "from keras_bed_sequence import BedSequence\n",
    "from keras_mixed_sequence import MixedSequence, VectorSequence\n",
    "from ucsc_genomes_downloader import Genome\n",
    "\n",
    "def get_holdout(dataset:Dict, genome:Genome, random_state, test_size:float=0.2, batch_size:int=1024)->Tuple:\n",
    "    \"\"\"Return tuple with the training and test sequences, training and test epigenomic data and training and test labels.\n",
    "\n",
    "    Parameters\n",
    "    --------------------------\n",
    "    dataset:Dict,\n",
    "        Dataset to use to generate the training and test partitions.\n",
    "    genome:Genome,\n",
    "        The genomic assembly from where to extract the sequences.\n",
    "    test_size:float=0.2,\n",
    "        The test set percentage.\n",
    "    batch_size:int=1024,\n",
    "        The batch size to use for the sequences.\n",
    "\n",
    "    Returns\n",
    "    ---------------------------\n",
    "    Sixtuple with training and test data for sequences, epigenomic data and labels.\n",
    "    \"\"\"\n",
    "    bed_train, bed_test, epi_train, epi_test, y_train, y_test = train_test_split(\n",
    "        dataset[\"bed\"],\n",
    "        dataset[\"epigenome\"].values,\n",
    "        dataset[\"labels\"],\n",
    "        test_size=test_size,\n",
    "        random_state=random_state\n",
    "    )\n",
    "\n",
    "    training_sequence = MixedSequence(\n",
    "        x=BedSequence(genome, bed_train, batch_size=batch_size),\n",
    "        y=VectorSequence(y_train, batch_size=batch_size)\n",
    "    )\n",
    "\n",
    "    validation_sequence = MixedSequence(\n",
    "        x=BedSequence(genome, bed_test, batch_size=batch_size),\n",
    "        y=VectorSequence(y_test, batch_size=batch_size)\n",
    "    )\n",
    "\n",
    "    return training_sequence, validation_sequence, epi_train, epi_test, y_train, y_test"
   ]
  },
  {
   "cell_type": "code",
   "execution_count": 9,
   "metadata": {},
   "outputs": [],
   "source": [
    "def precomputed(results, model:str, holdout:int)->bool:\n",
    "    df = pd.DataFrame(results)\n",
    "    if df.empty:\n",
    "        return False\n",
    "    return (\n",
    "        (df.model == model) &\n",
    "        (df.holdout == holdout)\n",
    "    ).any()"
   ]
  },
  {
   "cell_type": "code",
   "execution_count": 10,
   "metadata": {
    "scrolled": false
   },
   "outputs": [
    {
     "data": {
      "application/vnd.jupyter.widget-view+json": {
       "model_id": "cea292d1cbd84aba8f88a00c7f658f8d",
       "version_major": 2,
       "version_minor": 0
      },
      "text/plain": [
       "HBox(children=(FloatProgress(value=0.0, description='Computing holdouts', layout=Layout(flex='2'), max=50.0, s…"
      ]
     },
     "metadata": {},
     "output_type": "display_data"
    },
    {
     "data": {
      "application/vnd.jupyter.widget-view+json": {
       "model_id": "",
       "version_major": 2,
       "version_minor": 0
      },
      "text/plain": [
       "HBox(children=(FloatProgress(value=0.0, description='Training models', layout=Layout(flex='2'), max=4.0, style…"
      ]
     },
     "metadata": {},
     "output_type": "display_data"
    },
    {
     "data": {
      "application/vnd.jupyter.widget-view+json": {
       "model_id": "",
       "version_major": 2,
       "version_minor": 0
      },
      "text/plain": [
       "HBox(children=(FloatProgress(value=0.0, description='Training models', layout=Layout(flex='2'), max=4.0, style…"
      ]
     },
     "metadata": {},
     "output_type": "display_data"
    },
    {
     "data": {
      "application/vnd.jupyter.widget-view+json": {
       "model_id": "",
       "version_major": 2,
       "version_minor": 0
      },
      "text/plain": [
       "HBox(children=(FloatProgress(value=0.0, description='Training models', layout=Layout(flex='2'), max=4.0, style…"
      ]
     },
     "metadata": {},
     "output_type": "display_data"
    },
    {
     "data": {
      "application/vnd.jupyter.widget-view+json": {
       "model_id": "",
       "version_major": 2,
       "version_minor": 0
      },
      "text/plain": [
       "HBox(children=(FloatProgress(value=0.0, description='Training models', layout=Layout(flex='2'), max=4.0, style…"
      ]
     },
     "metadata": {},
     "output_type": "display_data"
    },
    {
     "data": {
      "application/vnd.jupyter.widget-view+json": {
       "model_id": "",
       "version_major": 2,
       "version_minor": 0
      },
      "text/plain": [
       "HBox(children=(FloatProgress(value=0.0, description='Training models', layout=Layout(flex='2'), max=4.0, style…"
      ]
     },
     "metadata": {},
     "output_type": "display_data"
    },
    {
     "data": {
      "application/vnd.jupyter.widget-view+json": {
       "model_id": "",
       "version_major": 2,
       "version_minor": 0
      },
      "text/plain": [
       "HBox(children=(FloatProgress(value=0.0, description='Training models', layout=Layout(flex='2'), max=4.0, style…"
      ]
     },
     "metadata": {},
     "output_type": "display_data"
    },
    {
     "data": {
      "application/vnd.jupyter.widget-view+json": {
       "model_id": "",
       "version_major": 2,
       "version_minor": 0
      },
      "text/plain": [
       "HBox(children=(FloatProgress(value=0.0, description='Training models', layout=Layout(flex='2'), max=4.0, style…"
      ]
     },
     "metadata": {},
     "output_type": "display_data"
    },
    {
     "data": {
      "application/vnd.jupyter.widget-view+json": {
       "model_id": "",
       "version_major": 2,
       "version_minor": 0
      },
      "text/plain": [
       "HBox(children=(FloatProgress(value=0.0, description='Training models', layout=Layout(flex='2'), max=4.0, style…"
      ]
     },
     "metadata": {},
     "output_type": "display_data"
    },
    {
     "data": {
      "application/vnd.jupyter.widget-view+json": {
       "model_id": "",
       "version_major": 2,
       "version_minor": 0
      },
      "text/plain": [
       "HBox(children=(FloatProgress(value=0.0, description='Training models', layout=Layout(flex='2'), max=4.0, style…"
      ]
     },
     "metadata": {},
     "output_type": "display_data"
    },
    {
     "data": {
      "application/vnd.jupyter.widget-view+json": {
       "model_id": "",
       "version_major": 2,
       "version_minor": 0
      },
      "text/plain": [
       "HBox(children=(FloatProgress(value=0.0, description='Training models', layout=Layout(flex='2'), max=4.0, style…"
      ]
     },
     "metadata": {},
     "output_type": "display_data"
    },
    {
     "data": {
      "application/vnd.jupyter.widget-view+json": {
       "model_id": "",
       "version_major": 2,
       "version_minor": 0
      },
      "text/plain": [
       "HBox(children=(FloatProgress(value=0.0, description='Training models', layout=Layout(flex='2'), max=4.0, style…"
      ]
     },
     "metadata": {},
     "output_type": "display_data"
    },
    {
     "data": {
      "application/vnd.jupyter.widget-view+json": {
       "model_id": "",
       "version_major": 2,
       "version_minor": 0
      },
      "text/plain": [
       "HBox(children=(FloatProgress(value=0.0, description='Training models', layout=Layout(flex='2'), max=4.0, style…"
      ]
     },
     "metadata": {},
     "output_type": "display_data"
    },
    {
     "data": {
      "application/vnd.jupyter.widget-view+json": {
       "model_id": "",
       "version_major": 2,
       "version_minor": 0
      },
      "text/plain": [
       "HBox(children=(FloatProgress(value=0.0, description='Training models', layout=Layout(flex='2'), max=4.0, style…"
      ]
     },
     "metadata": {},
     "output_type": "display_data"
    },
    {
     "data": {
      "application/vnd.jupyter.widget-view+json": {
       "model_id": "",
       "version_major": 2,
       "version_minor": 0
      },
      "text/plain": [
       "HBox(children=(FloatProgress(value=0.0, description='Training models', layout=Layout(flex='2'), max=4.0, style…"
      ]
     },
     "metadata": {},
     "output_type": "display_data"
    },
    {
     "data": {
      "application/vnd.jupyter.widget-view+json": {
       "model_id": "",
       "version_major": 2,
       "version_minor": 0
      },
      "text/plain": [
       "HBox(children=(FloatProgress(value=0.0, description='Training models', layout=Layout(flex='2'), max=4.0, style…"
      ]
     },
     "metadata": {},
     "output_type": "display_data"
    },
    {
     "data": {
      "application/vnd.jupyter.widget-view+json": {
       "model_id": "",
       "version_major": 2,
       "version_minor": 0
      },
      "text/plain": [
       "HBox(children=(FloatProgress(value=0.0, description='Training models', layout=Layout(flex='2'), max=4.0, style…"
      ]
     },
     "metadata": {},
     "output_type": "display_data"
    },
    {
     "data": {
      "application/vnd.jupyter.widget-view+json": {
       "model_id": "",
       "version_major": 2,
       "version_minor": 0
      },
      "text/plain": [
       "HBox(children=(FloatProgress(value=0.0, description='Training models', layout=Layout(flex='2'), max=4.0, style…"
      ]
     },
     "metadata": {},
     "output_type": "display_data"
    },
    {
     "data": {
      "application/vnd.jupyter.widget-view+json": {
       "model_id": "",
       "version_major": 2,
       "version_minor": 0
      },
      "text/plain": [
       "HBox(children=(FloatProgress(value=0.0, description='Training models', layout=Layout(flex='2'), max=4.0, style…"
      ]
     },
     "metadata": {},
     "output_type": "display_data"
    },
    {
     "data": {
      "application/vnd.jupyter.widget-view+json": {
       "model_id": "",
       "version_major": 2,
       "version_minor": 0
      },
      "text/plain": [
       "HBox(children=(FloatProgress(value=0.0, description='Training models', layout=Layout(flex='2'), max=4.0, style…"
      ]
     },
     "metadata": {},
     "output_type": "display_data"
    },
    {
     "data": {
      "application/vnd.jupyter.widget-view+json": {
       "model_id": "",
       "version_major": 2,
       "version_minor": 0
      },
      "text/plain": [
       "HBox(children=(FloatProgress(value=0.0, description='Training models', layout=Layout(flex='2'), max=4.0, style…"
      ]
     },
     "metadata": {},
     "output_type": "display_data"
    },
    {
     "data": {
      "application/vnd.jupyter.widget-view+json": {
       "model_id": "",
       "version_major": 2,
       "version_minor": 0
      },
      "text/plain": [
       "HBox(children=(FloatProgress(value=0.0, description='Training models', layout=Layout(flex='2'), max=4.0, style…"
      ]
     },
     "metadata": {},
     "output_type": "display_data"
    },
    {
     "data": {
      "application/vnd.jupyter.widget-view+json": {
       "model_id": "",
       "version_major": 2,
       "version_minor": 0
      },
      "text/plain": [
       "HBox(children=(FloatProgress(value=0.0, description='Training models', layout=Layout(flex='2'), max=4.0, style…"
      ]
     },
     "metadata": {},
     "output_type": "display_data"
    },
    {
     "data": {
      "application/vnd.jupyter.widget-view+json": {
       "model_id": "",
       "version_major": 2,
       "version_minor": 0
      },
      "text/plain": [
       "HBox(children=(FloatProgress(value=0.0, description='Training models', layout=Layout(flex='2'), max=4.0, style…"
      ]
     },
     "metadata": {},
     "output_type": "display_data"
    },
    {
     "data": {
      "application/vnd.jupyter.widget-view+json": {
       "model_id": "",
       "version_major": 2,
       "version_minor": 0
      },
      "text/plain": [
       "HBox(children=(FloatProgress(value=0.0, description='Training models', layout=Layout(flex='2'), max=4.0, style…"
      ]
     },
     "metadata": {},
     "output_type": "display_data"
    },
    {
     "data": {
      "application/vnd.jupyter.widget-view+json": {
       "model_id": "",
       "version_major": 2,
       "version_minor": 0
      },
      "text/plain": [
       "HBox(children=(FloatProgress(value=0.0, description='Training models', layout=Layout(flex='2'), max=4.0, style…"
      ]
     },
     "metadata": {},
     "output_type": "display_data"
    },
    {
     "data": {
      "application/vnd.jupyter.widget-view+json": {
       "model_id": "",
       "version_major": 2,
       "version_minor": 0
      },
      "text/plain": [
       "HBox(children=(FloatProgress(value=0.0, description='Training models', layout=Layout(flex='2'), max=4.0, style…"
      ]
     },
     "metadata": {},
     "output_type": "display_data"
    },
    {
     "data": {
      "application/vnd.jupyter.widget-view+json": {
       "model_id": "",
       "version_major": 2,
       "version_minor": 0
      },
      "text/plain": [
       "HBox(children=(FloatProgress(value=0.0, description='Training models', layout=Layout(flex='2'), max=4.0, style…"
      ]
     },
     "metadata": {},
     "output_type": "display_data"
    },
    {
     "data": {
      "application/vnd.jupyter.widget-view+json": {
       "model_id": "",
       "version_major": 2,
       "version_minor": 0
      },
      "text/plain": [
       "HBox(children=(FloatProgress(value=0.0, description='Training models', layout=Layout(flex='2'), max=4.0, style…"
      ]
     },
     "metadata": {},
     "output_type": "display_data"
    },
    {
     "data": {
      "application/vnd.jupyter.widget-view+json": {
       "model_id": "",
       "version_major": 2,
       "version_minor": 0
      },
      "text/plain": [
       "HBox(children=(FloatProgress(value=0.0, description='Training models', layout=Layout(flex='2'), max=4.0, style…"
      ]
     },
     "metadata": {},
     "output_type": "display_data"
    },
    {
     "data": {
      "application/vnd.jupyter.widget-view+json": {
       "model_id": "",
       "version_major": 2,
       "version_minor": 0
      },
      "text/plain": [
       "HBox(children=(FloatProgress(value=0.0, description='Training models', layout=Layout(flex='2'), max=4.0, style…"
      ]
     },
     "metadata": {},
     "output_type": "display_data"
    },
    {
     "data": {
      "application/vnd.jupyter.widget-view+json": {
       "model_id": "",
       "version_major": 2,
       "version_minor": 0
      },
      "text/plain": [
       "HBox(children=(FloatProgress(value=0.0, description='Training models', layout=Layout(flex='2'), max=4.0, style…"
      ]
     },
     "metadata": {},
     "output_type": "display_data"
    },
    {
     "data": {
      "application/vnd.jupyter.widget-view+json": {
       "model_id": "",
       "version_major": 2,
       "version_minor": 0
      },
      "text/plain": [
       "HBox(children=(FloatProgress(value=0.0, description='Training models', layout=Layout(flex='2'), max=4.0, style…"
      ]
     },
     "metadata": {},
     "output_type": "display_data"
    },
    {
     "data": {
      "application/vnd.jupyter.widget-view+json": {
       "model_id": "",
       "version_major": 2,
       "version_minor": 0
      },
      "text/plain": [
       "HBox(children=(FloatProgress(value=0.0, description='Training models', layout=Layout(flex='2'), max=4.0, style…"
      ]
     },
     "metadata": {},
     "output_type": "display_data"
    },
    {
     "data": {
      "application/vnd.jupyter.widget-view+json": {
       "model_id": "",
       "version_major": 2,
       "version_minor": 0
      },
      "text/plain": [
       "HBox(children=(FloatProgress(value=0.0, description='Training models', layout=Layout(flex='2'), max=4.0, style…"
      ]
     },
     "metadata": {},
     "output_type": "display_data"
    },
    {
     "data": {
      "application/vnd.jupyter.widget-view+json": {
       "model_id": "",
       "version_major": 2,
       "version_minor": 0
      },
      "text/plain": [
       "HBox(children=(FloatProgress(value=0.0, description='Training models', layout=Layout(flex='2'), max=4.0, style…"
      ]
     },
     "metadata": {},
     "output_type": "display_data"
    },
    {
     "data": {
      "application/vnd.jupyter.widget-view+json": {
       "model_id": "",
       "version_major": 2,
       "version_minor": 0
      },
      "text/plain": [
       "HBox(children=(FloatProgress(value=0.0, description='Training models', layout=Layout(flex='2'), max=4.0, style…"
      ]
     },
     "metadata": {},
     "output_type": "display_data"
    },
    {
     "data": {
      "application/vnd.jupyter.widget-view+json": {
       "model_id": "",
       "version_major": 2,
       "version_minor": 0
      },
      "text/plain": [
       "HBox(children=(FloatProgress(value=0.0, description='Training models', layout=Layout(flex='2'), max=4.0, style…"
      ]
     },
     "metadata": {},
     "output_type": "display_data"
    },
    {
     "data": {
      "application/vnd.jupyter.widget-view+json": {
       "model_id": "",
       "version_major": 2,
       "version_minor": 0
      },
      "text/plain": [
       "HBox(children=(FloatProgress(value=0.0, description='Training models', layout=Layout(flex='2'), max=4.0, style…"
      ]
     },
     "metadata": {},
     "output_type": "display_data"
    },
    {
     "data": {
      "application/vnd.jupyter.widget-view+json": {
       "model_id": "",
       "version_major": 2,
       "version_minor": 0
      },
      "text/plain": [
       "HBox(children=(FloatProgress(value=0.0, description='Training models', layout=Layout(flex='2'), max=4.0, style…"
      ]
     },
     "metadata": {},
     "output_type": "display_data"
    },
    {
     "data": {
      "application/vnd.jupyter.widget-view+json": {
       "model_id": "",
       "version_major": 2,
       "version_minor": 0
      },
      "text/plain": [
       "HBox(children=(FloatProgress(value=0.0, description='Training models', layout=Layout(flex='2'), max=4.0, style…"
      ]
     },
     "metadata": {},
     "output_type": "display_data"
    },
    {
     "data": {
      "application/vnd.jupyter.widget-view+json": {
       "model_id": "",
       "version_major": 2,
       "version_minor": 0
      },
      "text/plain": [
       "HBox(children=(FloatProgress(value=0.0, description='Training models', layout=Layout(flex='2'), max=4.0, style…"
      ]
     },
     "metadata": {},
     "output_type": "display_data"
    },
    {
     "data": {
      "application/vnd.jupyter.widget-view+json": {
       "model_id": "",
       "version_major": 2,
       "version_minor": 0
      },
      "text/plain": [
       "HBox(children=(FloatProgress(value=0.0, description='Training models', layout=Layout(flex='2'), max=4.0, style…"
      ]
     },
     "metadata": {},
     "output_type": "display_data"
    },
    {
     "data": {
      "application/vnd.jupyter.widget-view+json": {
       "model_id": "",
       "version_major": 2,
       "version_minor": 0
      },
      "text/plain": [
       "HBox(children=(FloatProgress(value=0.0, description='Training models', layout=Layout(flex='2'), max=4.0, style…"
      ]
     },
     "metadata": {},
     "output_type": "display_data"
    },
    {
     "data": {
      "application/vnd.jupyter.widget-view+json": {
       "model_id": "",
       "version_major": 2,
       "version_minor": 0
      },
      "text/plain": [
       "HBox(children=(FloatProgress(value=0.0, description='Training models', layout=Layout(flex='2'), max=4.0, style…"
      ]
     },
     "metadata": {},
     "output_type": "display_data"
    },
    {
     "data": {
      "application/vnd.jupyter.widget-view+json": {
       "model_id": "",
       "version_major": 2,
       "version_minor": 0
      },
      "text/plain": [
       "HBox(children=(FloatProgress(value=0.0, description='Training models', layout=Layout(flex='2'), max=4.0, style…"
      ]
     },
     "metadata": {},
     "output_type": "display_data"
    },
    {
     "data": {
      "application/vnd.jupyter.widget-view+json": {
       "model_id": "",
       "version_major": 2,
       "version_minor": 0
      },
      "text/plain": [
       "HBox(children=(FloatProgress(value=0.0, description='Training models', layout=Layout(flex='2'), max=4.0, style…"
      ]
     },
     "metadata": {},
     "output_type": "display_data"
    },
    {
     "data": {
      "application/vnd.jupyter.widget-view+json": {
       "model_id": "",
       "version_major": 2,
       "version_minor": 0
      },
      "text/plain": [
       "HBox(children=(FloatProgress(value=0.0, description='Training models', layout=Layout(flex='2'), max=4.0, style…"
      ]
     },
     "metadata": {},
     "output_type": "display_data"
    },
    {
     "data": {
      "application/vnd.jupyter.widget-view+json": {
       "model_id": "",
       "version_major": 2,
       "version_minor": 0
      },
      "text/plain": [
       "HBox(children=(FloatProgress(value=0.0, description='Training models', layout=Layout(flex='2'), max=4.0, style…"
      ]
     },
     "metadata": {},
     "output_type": "display_data"
    },
    {
     "data": {
      "application/vnd.jupyter.widget-view+json": {
       "model_id": "",
       "version_major": 2,
       "version_minor": 0
      },
      "text/plain": [
       "HBox(children=(FloatProgress(value=0.0, description='Training models', layout=Layout(flex='2'), max=4.0, style…"
      ]
     },
     "metadata": {},
     "output_type": "display_data"
    },
    {
     "name": "stdout",
     "output_type": "stream",
     "text": [
      "\n"
     ]
    }
   ],
   "source": [
    "from plot_keras_history import plot_history\n",
    "import matplotlib.pyplot as plt\n",
    "\n",
    "if os.path.exists(\"sequence.json\"):\n",
    "    results = compress_json.local_load(\"sequence.json\")\n",
    "else:\n",
    "    results = []\n",
    "    \n",
    "def to_normal_float(dictionary)->Dict:\n",
    "    return {\n",
    "        key: float(value) if isinstance(value, np.float32) else value\n",
    "        for key, value in dictionary.items()\n",
    "    }\n",
    "\n",
    "genome = Genome(\"hg19\", verbose=False)\n",
    "data = get_new_data([\"A-E\", \"I-E\"], [\"A-P\", \"I-P\"], cell_line=\"GM12878\", window_size=200)\n",
    "\n",
    "for i in trange(50, desc=\"Computing holdouts\", dynamic_ncols=True):\n",
    "    train, test, _, _, _, _ = get_holdout(\n",
    "        data, genome, random_state=i\n",
    "    )\n",
    "    for build_model in tqdm(models, total=len(models), desc=\"Training models\", leave=False, dynamic_ncols=True):\n",
    "        model = build_model()\n",
    "        if precomputed(results, model.name, i):\n",
    "            continue\n",
    "        history = model.fit(\n",
    "            train,\n",
    "            steps_per_epoch=train.steps_per_epoch,\n",
    "            validation_data=test,\n",
    "            validation_steps=test.steps_per_epoch,\n",
    "            epochs=1000,\n",
    "            verbose=False,\n",
    "            callbacks=[\n",
    "                EarlyStopping(\n",
    "                    monitor=\"val_loss\",\n",
    "                    mode=\"min\",\n",
    "                    patience=5,\n",
    "                    restore_best_weights=True\n",
    "                ),\n",
    "            ]\n",
    "        ).history\n",
    "        \n",
    "        results.append({\n",
    "            \"model\":model.name,\n",
    "            \"run_type\":\"train\",\n",
    "            \"holdout\":i,\n",
    "            **to_normal_float(dict(zip(model.metrics_names, model.evaluate(train, steps=train.steps_per_epoch, verbose=False)))),\n",
    "        })\n",
    "        results.append({\n",
    "            \"model\":model.name,\n",
    "            \"run_type\":\"test\",\n",
    "            \"holdout\":i,\n",
    "            **to_normal_float(dict(zip(model.metrics_names, model.evaluate(test, steps=test.steps_per_epoch, verbose=False)))),\n",
    "        })\n",
    "        compress_json.local_dump(results, \"sequence.json\")"
   ]
  },
  {
   "cell_type": "code",
   "execution_count": 11,
   "metadata": {},
   "outputs": [],
   "source": [
    "df = pd.DataFrame(results).drop(columns=\"holdout\")"
   ]
  },
  {
   "cell_type": "code",
   "execution_count": 12,
   "metadata": {},
   "outputs": [
    {
     "data": {
      "text/html": [
       "<div>\n",
       "<style scoped>\n",
       "    .dataframe tbody tr th:only-of-type {\n",
       "        vertical-align: middle;\n",
       "    }\n",
       "\n",
       "    .dataframe tbody tr th {\n",
       "        vertical-align: top;\n",
       "    }\n",
       "\n",
       "    .dataframe thead th {\n",
       "        text-align: right;\n",
       "    }\n",
       "</style>\n",
       "<table border=\"1\" class=\"dataframe\">\n",
       "  <thead>\n",
       "    <tr style=\"text-align: right;\">\n",
       "      <th></th>\n",
       "      <th>model</th>\n",
       "      <th>run_type</th>\n",
       "      <th>loss</th>\n",
       "      <th>accuracy</th>\n",
       "      <th>auroc</th>\n",
       "      <th>auprc</th>\n",
       "    </tr>\n",
       "  </thead>\n",
       "  <tbody>\n",
       "    <tr>\n",
       "      <th>0</th>\n",
       "      <td>Perceptron</td>\n",
       "      <td>train</td>\n",
       "      <td>0.632171</td>\n",
       "      <td>0.631165</td>\n",
       "      <td>0.660640</td>\n",
       "      <td>0.527785</td>\n",
       "    </tr>\n",
       "    <tr>\n",
       "      <th>1</th>\n",
       "      <td>Perceptron</td>\n",
       "      <td>test</td>\n",
       "      <td>0.636587</td>\n",
       "      <td>0.627030</td>\n",
       "      <td>0.654989</td>\n",
       "      <td>0.524936</td>\n",
       "    </tr>\n",
       "    <tr>\n",
       "      <th>2</th>\n",
       "      <td>MLP</td>\n",
       "      <td>train</td>\n",
       "      <td>0.511673</td>\n",
       "      <td>0.737436</td>\n",
       "      <td>0.813316</td>\n",
       "      <td>0.717893</td>\n",
       "    </tr>\n",
       "    <tr>\n",
       "      <th>3</th>\n",
       "      <td>MLP</td>\n",
       "      <td>test</td>\n",
       "      <td>0.558896</td>\n",
       "      <td>0.695376</td>\n",
       "      <td>0.764455</td>\n",
       "      <td>0.648676</td>\n",
       "    </tr>\n",
       "    <tr>\n",
       "      <th>4</th>\n",
       "      <td>FFNN</td>\n",
       "      <td>train</td>\n",
       "      <td>0.520217</td>\n",
       "      <td>0.745390</td>\n",
       "      <td>0.817976</td>\n",
       "      <td>0.726148</td>\n",
       "    </tr>\n",
       "    <tr>\n",
       "      <th>...</th>\n",
       "      <td>...</td>\n",
       "      <td>...</td>\n",
       "      <td>...</td>\n",
       "      <td>...</td>\n",
       "      <td>...</td>\n",
       "      <td>...</td>\n",
       "    </tr>\n",
       "    <tr>\n",
       "      <th>395</th>\n",
       "      <td>MLP</td>\n",
       "      <td>test</td>\n",
       "      <td>0.559938</td>\n",
       "      <td>0.695920</td>\n",
       "      <td>0.763243</td>\n",
       "      <td>0.644204</td>\n",
       "    </tr>\n",
       "    <tr>\n",
       "      <th>396</th>\n",
       "      <td>FFNN</td>\n",
       "      <td>train</td>\n",
       "      <td>0.507170</td>\n",
       "      <td>0.754190</td>\n",
       "      <td>0.826895</td>\n",
       "      <td>0.739552</td>\n",
       "    </tr>\n",
       "    <tr>\n",
       "      <th>397</th>\n",
       "      <td>FFNN</td>\n",
       "      <td>test</td>\n",
       "      <td>0.557331</td>\n",
       "      <td>0.698249</td>\n",
       "      <td>0.766059</td>\n",
       "      <td>0.646758</td>\n",
       "    </tr>\n",
       "    <tr>\n",
       "      <th>398</th>\n",
       "      <td>DeepEnhancer</td>\n",
       "      <td>train</td>\n",
       "      <td>0.357385</td>\n",
       "      <td>0.834265</td>\n",
       "      <td>0.930702</td>\n",
       "      <td>0.886367</td>\n",
       "    </tr>\n",
       "    <tr>\n",
       "      <th>399</th>\n",
       "      <td>DeepEnhancer</td>\n",
       "      <td>test</td>\n",
       "      <td>0.386090</td>\n",
       "      <td>0.822300</td>\n",
       "      <td>0.913690</td>\n",
       "      <td>0.856357</td>\n",
       "    </tr>\n",
       "  </tbody>\n",
       "</table>\n",
       "<p>400 rows × 6 columns</p>\n",
       "</div>"
      ],
      "text/plain": [
       "            model run_type      loss  accuracy     auroc     auprc\n",
       "0      Perceptron    train  0.632171  0.631165  0.660640  0.527785\n",
       "1      Perceptron     test  0.636587  0.627030  0.654989  0.524936\n",
       "2             MLP    train  0.511673  0.737436  0.813316  0.717893\n",
       "3             MLP     test  0.558896  0.695376  0.764455  0.648676\n",
       "4            FFNN    train  0.520217  0.745390  0.817976  0.726148\n",
       "..            ...      ...       ...       ...       ...       ...\n",
       "395           MLP     test  0.559938  0.695920  0.763243  0.644204\n",
       "396          FFNN    train  0.507170  0.754190  0.826895  0.739552\n",
       "397          FFNN     test  0.557331  0.698249  0.766059  0.646758\n",
       "398  DeepEnhancer    train  0.357385  0.834265  0.930702  0.886367\n",
       "399  DeepEnhancer     test  0.386090  0.822300  0.913690  0.856357\n",
       "\n",
       "[400 rows x 6 columns]"
      ]
     },
     "execution_count": 12,
     "metadata": {},
     "output_type": "execute_result"
    }
   ],
   "source": [
    "df"
   ]
  },
  {
   "cell_type": "code",
   "execution_count": 13,
   "metadata": {},
   "outputs": [
    {
     "data": {
      "application/vnd.jupyter.widget-view+json": {
       "model_id": "8da2580aaed646918fd9be62ec14342b",
       "version_major": 2,
       "version_minor": 0
      },
      "text/plain": [
       "HBox(children=(FloatProgress(value=0.0, description='Rendering barplots', layout=Layout(flex='2'), max=4.0, st…"
      ]
     },
     "metadata": {},
     "output_type": "display_data"
    },
    {
     "name": "stdout",
     "output_type": "stream",
     "text": [
      "\n"
     ]
    }
   ],
   "source": [
    "barplots(\n",
    "    df,\n",
    "    groupby=[\"model\", \"run_type\"],\n",
    "    show_legend=False,\n",
    "    height=5,\n",
    "    orientation=\"horizontal\",\n",
    "    path='barplots/sequence/{feature}.png',\n",
    ")"
   ]
  },
  {
   "cell_type": "code",
   "execution_count": 14,
   "metadata": {
    "scrolled": false
   },
   "outputs": [
    {
     "data": {
      "image/png": "[encoded data removed]",
      "text/plain": [
       "<PIL.PngImagePlugin.PngImageFile image mode=RGBA size=981x640 at 0x7F60D036D978>"
      ]
     },
     "metadata": {},
     "output_type": "display_data"
    },
    {
     "data": {
      "image/png": "[encoded data removed]",
      "text/plain": [
       "<PIL.PngImagePlugin.PngImageFile image mode=RGBA size=979x640 at 0x7F60D036D978>"
      ]
     },
     "metadata": {},
     "output_type": "display_data"
    },
    {
     "data": {
      "image/png": "[encoded data removed]",
      "text/plain": [
       "<PIL.PngImagePlugin.PngImageFile image mode=RGBA size=981x640 at 0x7F5F5033DF28>"
      ]
     },
     "metadata": {},
     "output_type": "display_data"
    },
    {
     "data": {
      "image/png": "[encoded data removed]",
      "text/plain": [
       "<PIL.PngImagePlugin.PngImageFile image mode=RGBA size=981x640 at 0x7F60D00AF780>"
      ]
     },
     "metadata": {},
     "output_type": "display_data"
    }
   ],
   "source": [
    "from PIL import Image\n",
    "from glob import glob\n",
    "\n",
    "for x in glob(\"barplots/sequence/*.png\"):\n",
    "    display(Image.open(x))"
   ]
  },
  {
   "cell_type": "code",
   "execution_count": null,
   "metadata": {},
   "outputs": [],
   "source": []
  }
 ],
 "metadata": {
  "kernelspec": {
   "display_name": "Python 3",
   "language": "python",
   "name": "python3"
  },
  "language_info": {
   "codemirror_mode": {
    "name": "ipython",
    "version": 3
   },
   "file_extension": ".py",
   "mimetype": "text/x-python",
   "name": "python",
   "nbconvert_exporter": "python",
   "pygments_lexer": "ipython3",
   "version": "3.6.9"
  }
 },
 "nbformat": 4,
 "nbformat_minor": 4
}
